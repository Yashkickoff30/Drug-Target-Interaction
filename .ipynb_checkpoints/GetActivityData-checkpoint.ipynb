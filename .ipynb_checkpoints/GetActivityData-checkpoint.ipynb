{
 "cells": [
  {
   "cell_type": "markdown",
   "metadata": {},
   "source": [
    "## Fetch data, preprocess and partition to train/test sets\n"
   ]
  },
  {
   "cell_type": "code",
   "execution_count": 87,
   "metadata": {},
   "outputs": [],
   "source": [
    "from chembl_webresource_client.new_client import new_client\n",
    "import csv\n",
    "from matplotlib import pyplot as plt\n",
    "import numpy as np\n",
    "import pandas as pd\n",
    "\n",
    "DOWNLOAD = False # True #   \n",
    "N=100 \n",
    "\n",
    "Targets=[]\n",
    "Interactions = []\n",
    "targets_to_compounds = dict()\n",
    "with open('kinases.csv', 'r') as csvfile:\n",
    "    reader = csv.reader(csvfile)\n",
    "    for row in reader:\n",
    "        Targets.append(row[0])\n",
    "        targets_to_compounds[row[0]] = []"
   ]
  },
  {
   "cell_type": "markdown",
   "metadata": {},
   "source": [
    "###  Download data\n",
    "We also create a tab-separated-values file, one line per activity, containing the information **Target-ID, Compound-ID, Type, Value**."
   ]
  },
  {
   "cell_type": "code",
   "execution_count": 88,
   "metadata": {},
   "outputs": [
    {
     "name": "stdout",
     "output_type": "stream",
     "text": [
      "Target\tCompound\tType\tValue\n",
      "\n",
      "CHEMBL1075167\tCHEMBL1077739\tInhibition\t5\n",
      "\n",
      "CHEMBL1075167\tCHEMBL1081678\tInhibition\t50\n",
      "\n",
      "CHEMBL1075167\tCHEMBL1078665\tInhibition\t50\n",
      "\n",
      "CHEMBL1075167\tCHEMBL1165499\tInhibition\t50\n",
      "\n",
      "CHEMBL1075167\tCHEMBL1164180\tInhibition\t50\n",
      "\n",
      "CHEMBL1075167\tCHEMBL1164181\tInhibition\t50\n",
      "\n",
      "CHEMBL1075167\tCHEMBL1164265\tInhibition\t50\n",
      "\n",
      "CHEMBL1075167\tCHEMBL1163566\tInhibition\t50\n",
      "\n",
      "CHEMBL1075167\tCHEMBL1163565\tInhibition\t50\n",
      "\n",
      "CHEMBL1075167\tCHEMBL1171523\tInhibition\t2.2\n",
      "\n",
      "CHEMBL1075167\tCHEMBL1170139\tInhibition\t1.9\n",
      "\n",
      "CHEMBL1075167\tCHEMBL1241578\tInhibition\t15\n",
      "\n",
      "CHEMBL1075167\tCHEMBL1081312\tInhibition\t9\n",
      "\n",
      "CHEMBL1075167\tCHEMBL1233882\tInhibition\t14\n",
      "\n",
      "CHEMBL1075167\tCHEMBL576982\tKd\t320\n",
      "\n",
      "CHEMBL1075167\tCHEMBL603469\tKd\t150\n",
      "\n",
      "CHEMBL1075167\tCHEMBL1233881\tInhibition\t8\n",
      "\n",
      "CHEMBL1075167\tCHEMBL1241674\tInhibition\t8\n",
      "\n",
      "CHEMBL1075167\tCHEMBL1230790\tInhibition\t60\n",
      "\n",
      "CHEMBL1075167\tCHEMBL1234815\tInhibition\t3\n",
      "\n",
      "CHEMBL1075167\tCHEMBL124660\tKd\t400\n",
      "\n",
      "CHEMBL1075167\tCHEMBL608533\tKd\t950\n",
      "\n",
      "CHEMBL1075167\tCHEMBL1336\tKd\t2.7\n",
      "\n",
      "CHEMBL1075167\tCHEMBL535\tKd\t160\n",
      "\n",
      "CHEMBL1075167\tCHEMBL1240703\tKd\t10000\n",
      "\n",
      "CHEMBL1075167\tCHEMBL379300\tInhibition\t75\n",
      "\n",
      "CHEMBL1075167\tCHEMBL1254209\tInhibition\t18\n",
      "\n",
      "CHEMBL1075167\tCHEMBL577784\tInhibition\t48\n",
      "\n",
      "CHEMBL1075167\tCHEMBL1822054\tActivity\t99\n",
      "\n",
      "CHEMBL1075167\tCHEMBL215152\tKd\t97\n",
      "\n",
      "CHEMBL1075167\tCHEMBL105442\tKd\t10000\n",
      "\n",
      "CHEMBL1075167\tCHEMBL180022\tKd\t1500\n",
      "\n",
      "CHEMBL1075167\tCHEMBL386051\tKd\t10000\n",
      "\n",
      "CHEMBL1075167\tCHEMBL1721885\tKd\t970\n",
      "\n",
      "CHEMBL1075167\tCHEMBL491473\tKd\t10000\n",
      "\n",
      "CHEMBL1075167\tCHEMBL221959\tKd\t10000\n",
      "\n",
      "CHEMBL1075167\tCHEMBL941\tKd\t960\n",
      "\n",
      "CHEMBL1075167\tCHEMBL450786\tKd\t1300\n",
      "\n",
      "CHEMBL1075167\tCHEMBL535\tKd\t160\n",
      "\n",
      "CHEMBL1075167\tCHEMBL1614701\tKd\t10000\n",
      "\n",
      "CHEMBL1075167\tCHEMBL601719\tKd\t3600\n",
      "\n",
      "CHEMBL1075167\tCHEMBL1789941\tKd\t10000\n",
      "\n",
      "CHEMBL1075167\tCHEMBL513909\tKd\t2000\n",
      "\n",
      "CHEMBL1075167\tCHEMBL1421\tKd\t10000\n",
      "\n",
      "CHEMBL1075167\tCHEMBL1908395\tKd\t10000\n",
      "\n",
      "CHEMBL1075167\tCHEMBL573339\tKd\t10000\n",
      "\n",
      "CHEMBL1075167\tCHEMBL509032\tKd\t350\n",
      "\n",
      "CHEMBL1075167\tCHEMBL502835\tKd\t1200\n",
      "\n",
      "CHEMBL1075167\tCHEMBL553\tKd\t960\n",
      "\n",
      "CHEMBL1075167\tCHEMBL608533\tKd\t950\n",
      "\n"
     ]
    }
   ],
   "source": [
    "if DOWNLOAD:\n",
    "    activity = new_client.activity\n",
    "    count = 0\n",
    "    for current in Targets:\n",
    "        activities = activity.filter(target_chembl_id=current,standard_value__isnull=False).only('molecule_chembl_id','standard_type','standard_value')\n",
    "#         targets_to_compounds[current]=set()\n",
    "        for x in activities:\n",
    "            targets_to_compounds[current].append( x['molecule_chembl_id'].encode(\"ascii\") )\n",
    "            Interactions.append( [ current,x['molecule_chembl_id'].encode(\"ascii\"), x['standard_type'].encode(\"ascii\"),x['standard_value'].encode(\"ascii\")] )\n",
    "        count+=1\n",
    "        if count%50==0:print(\"More than %d targets are processed\" % count)\n",
    "\n",
    "    with open(\"interactions_kinases_all.tab\", 'w') as file:\n",
    "        file.write(\"Target\\tCompound\\tType\\tValue\\n\")\n",
    "        for x in Interactions:\n",
    "            file.write(\"{0}\\t{1}\\t{2}\\t{3}\\n\".format(x[0],x[1],x[2],x[3]) )\n",
    "\n",
    "with open(\"interactions_kinases_all.tab\", 'r') as file:\n",
    "    first_line = file.readline()\n",
    "    print(first_line)\n",
    "    i=0;\n",
    "    for line in file :\n",
    "        \n",
    "        if i<50 :\n",
    "            print(line)\n",
    "            i=i+1"
   ]
  },
  {
   "cell_type": "markdown",
   "metadata": {},
   "source": [
    "#### Get SMILES for each compound in the data set\n",
    "After getting all the interactions, assign SMILES to the compounds. If a compound doesn't have such a representation, assign it with \"None\". "
   ]
  },
  {
   "cell_type": "code",
   "execution_count": 89,
   "metadata": {},
   "outputs": [
    {
     "name": "stdout",
     "output_type": "stream",
     "text": [
      "CHEMBL1464903\tCOc1ccc(cc1Cl)C(=O)Nc2ccc(NC(=O)c3cccs3)cc2\t\n",
      "\n",
      "CHEMBL356626\tCCCOCc1ccc2c(c1)c3c4CNC(=O)c4c5c(Cc6ccccc56)c3n2CCCO\t\n",
      "\n",
      "CHEMBL3890345\tNC(=O)c1cn(nc1Nc2ccc(F)cc2)C3(CC#N)CCC(CC3)NC4CCCCC4\t\n",
      "\n",
      "CHEMBL2334763\tCCNC(=O)Nc1ccc(cc1)c2nc3[C@H]4CC[C@@H](Cc3c(n2)N5CCOC[C@@H]5C)N4C6COC6\t\n",
      "\n",
      "CHEMBL4077865\tFc1ccc2cc(c3ccccc3)n(CC(=O)NCc4ccccn4)c2c1\t\n",
      "\n",
      "CHEMBL161477\tC[C@H](Nc1nccc(n1)c2cc(nnc2c3cccc(c3)C(F)(F)F)N(C)CCN(C)C)c4ccccc4\t\n",
      "\n"
     ]
    }
   ],
   "source": [
    "if DOWNLOAD:\n",
    "    Compounds = set(x[1] for x in Interactions) # we work for all the compounds available in the data set \n",
    "    Compounds = list( Compounds )\n",
    "\n",
    "    molecule = new_client.molecule\n",
    "\n",
    "    NoSmile=[]\n",
    "    Smiles=dict()\n",
    "    \n",
    "    save = open(\"Compound_SMILES.tab\", 'w')\n",
    "    \n",
    "    for i in range(len(Compounds)):    \n",
    "        m = molecule.get( Compounds[i] )\n",
    "        if m['molecule_structures'] is None:\n",
    "            NoSmile.append(Compounds[i])\n",
    "            smi=\"None\"\n",
    "        else:\n",
    "            smi=m['molecule_structures']['canonical_smiles']\n",
    "        Smiles[Compounds[i]] = smi\n",
    "        save.write( Compounds[i]+\"\\t\"+smi+\"\\t\"+\"\\n\" )\n",
    "    save.close()\n",
    "    \n",
    "    print(\"No SMILES were found for %d compounds!\" % len(NoSmile))\n",
    "    with open('NoSMILES.txt','w') as f:\n",
    "        for mol in NoSmile:\n",
    "            f.write(mol+'\\n')\n",
    "            \n",
    "with open(\"Compound_SMILES.tab\", 'r') as file:\n",
    "    first_line = file.readline()\n",
    "    print(first_line)\n",
    "    i=0;\n",
    "    for line in file :\n",
    "    \n",
    "        if i<5 :\n",
    "            print(line)\n",
    "            i=i+1            "
   ]
  },
  {
   "cell_type": "markdown",
   "metadata": {},
   "source": [
    "###  load data"
   ]
  },
  {
   "cell_type": "code",
   "execution_count": 90,
   "metadata": {},
   "outputs": [
    {
     "name": "stdout",
     "output_type": "stream",
     "text": [
      "155165 fingerprints were loaded!\n",
      "CHEMBL1464903\tCOc1ccc(cc1Cl)C(=O)Nc2ccc(NC(=O)c3cccs3)cc2\t11101010100000000000000000000000000000000000000000000000000000000000000000000000000000000000000000000000000000000000000000000000000000000000000000000000100000000000000000000000000000000000000000000000000000000000000000000000000000000000000000000000000000000000000000000000000000000000000000000000000000000000000000000000000000000000000000000000000000000000000000000000000000000000000000000000000000000000000000000000000000000000100000000000001000000000000000000000000000000000000000000000000000000000000000001000000100000000000000000000000000000000000000000000000000000000000000000000000000100000000000000000000000000000000000000000000010000010001000000000100000000010000000000000000000000000000000000000000000000000000000000000000000000000000000000000000000000000000000000000000000000000000100000000000000000000000000000000000000000000000000000000000000000000000000000000000000000000000000000000000000000000000000000000000000001000000000000000000000000000000000000000000000000000000000000000000000000000000000000000000000000000000000100000000000000000000000000000000100000000000000010000000000000000000000000000000000000000000000000000000000000000000000010000000000000000000000000000000000000000000000000000000000000001000000000000000000000000000000000000000000000000000000000000000000000000000000010000000000000000000000000000000000000000000000000000000000000000000000000100000100000000000000000000000000000000000000000000000000000000000000000000000000000000000000000000000000000000000000000000000000000000000000000000000000000000000000000000000000000000100000000000000000000000000000000000000000000000000000000000000000000000000000000000000000000000000000000000000000000000000000000000000000000000000000000000000000000001000000000000000000000000000000000000000000000000000000000000000000000000000000000000010000000000000000000000000000000000000000000000000000000000000000000000000000100000000000000000000000000000000000000000000000000000000000000000000000000000000000000000000000010000001000000000000000000000000001000000000000000000000110000000\n",
      "\n",
      "CHEMBL356626\tCCCOCc1ccc2c(c1)c3c4CNC(=O)c4c5c(Cc6ccccc56)c3n2CCCO\t11111010000000000000000000000000000000000000000000000000000000000000100000000000000000000000000000000000000000000000000000000000000010000000000000000000000000000000000000000000010000000000000000000000000000000000000000000000000000000000000000000000000000000000000000000000000000000000000000000000000000000000000000100000000000000000000000000000000000000000000000000000000000000000000000000000010001000000000000000000000000010000100000000000000000000000000000000000000000000000000000000000001000000010000000000000000000000000000000000000010000000100000000000000000000000000000000000000000000000000001000000000000000000000000000000000000000000000000001000000000000000000000000000000000000000000000000000000000000000000000000000010000000000000000000000000000000000000000000000000000100000000000010000000001001100000000000000000001100000000000000000000000000000100000000000000001000000000000000000000000000000000000000000000000000000000000000000000000000000000000000000010000000000000000000000000000000000000000000000000000100000000000000000000000000000000000001010000000000000000000000000100000000000000000000000010000000000000000000000000000000000100000000000000000000000000000000000000000000000000000000000000000000000000000000000000000000000000000000000100000000000000000000010000000000000010000000000000000000000000000000000000000000000000000000000000000000000000000000000000000100000000000000000000000001000000000000000000000000000000000000000000000000000000000000000000000000000000000000000000000000001000000000000000000000000000000000000000000000000000100000000000000000000000000000000000000000000000000000000000000000000000000000000000000000000000000000000000000000000000000000000000000000000000000000000000000000001000000000000000000000000000000000000000000000000000000000000000000000000000000000000000000000000000000000000000000000000000000000100000000000010000000000000000000000000000000000000000000000000000010000000000000000000000000000000100000000000000000000000000000000000000000000000000000000000000000001000000000000000000000011001000\n",
      "\n",
      "CHEMBL3890345\tNC(=O)c1cn(nc1Nc2ccc(F)cc2)C3(CC#N)CCC(CC3)NC4CCCCC4\t11101010100000000001000000000000000000000000000000000000000000000000000000000000000000000000000000000000000000000000000000000000000000000000000000000000000000000000000000000000000000000000000000000000000000000000000000000000000000000000000000000000000000000000000000100000000000000000000000000000000000000000000000000000000000000000000000000000000000000000000000000000000000000000000000000000000000000000000000000000000000000000100000000000000000000000000000000000000000000001000000000000000000000000010100000000000000010000000000000000000000000000000000000000000001000000000000000000000000000000000000000000000000000000000000000000000000000000000000000000000000000000000100010000000000000000000000000000000000000000000000000000000000000000000000000000000000000000000000000000000000000000000010000000000000000000000000000000100000000000000000000000000000000000000000000000000000000000000000000000000000000000000000000000000000000000000000000000000000000000000000000000000000001000000000000000000000000000000000000000000000000001000000000000000000000000000000000000000000000000000000000000000000000000000000000000000000000000000000000000000000000000001000000000000000000000010000000000000000000000000000000000000000001000000000000000000000000000000000000000000000000000000000000000000000000000000000000000000000000000000000000000000000000001000000000000000000000000000000000100000100000000000000100000000000000000000000000000000000000000001000000000000000000000000000000100000000000000010010000000000000010000000000000000000000000000000000000000000000000000000000000000000000000000000000000000000000000000000000000000000000000000000000000001000000000000000000000000000000100000000000000000000000000000000000000000000000000001000000000000000000000000000000000000000000000000000000000000001000000000000000000000000000000000000000000000000000000000000001000000000010000000000000000000000000000000000000000000000000000001000000000000000000000000000000000000000000000000000000000000000000000000000000000000000000000000000001000000000000000000000111000001\n",
      "\n"
     ]
    }
   ],
   "source": [
    "if ~DOWNLOAD:    \n",
    "    Interactions = []\n",
    "    with open(\"interactions_kinases_all.tab\", 'r') as file:\n",
    "        first_line = file.readline()\n",
    "        for line in file:\n",
    "            tokens = line.split('\\t')\n",
    "            \n",
    "            Interactions.append( [tokens[0], tokens[1],tokens[2], float(tokens[3])] )\n",
    "             \n",
    "    \n",
    "    Fingerprints=dict()\n",
    "    with open(\"Compound_Fingerprints_FCFP.tab\") as file:\n",
    "        for line in file:\n",
    "            tokens = line.split()\n",
    "            Fingerprints[tokens[0]] = tokens[2]\n",
    "    print(\"%d fingerprints were loaded!\" % len(Fingerprints))\n",
    "    \n",
    "\n",
    "with open(\"Compound_Fingerprints_FCFP.tab\", 'r') as file:\n",
    "    first_line = file.readline()\n",
    "    print(first_line)\n",
    "    i=0;\n",
    "    for line in file :\n",
    "        \n",
    "        if i<2 :\n",
    "            print(line)\n",
    "            i=i+1    "
   ]
  },
  {
   "cell_type": "markdown",
   "metadata": {},
   "source": [
    "### 2. Process\n"
   ]
  },
  {
   "cell_type": "code",
   "execution_count": 91,
   "metadata": {
    "scrolled": true
   },
   "outputs": [
    {
     "name": "stdout",
     "output_type": "stream",
     "text": [
      "There are 797 targets and 155165 compounds currently loaded with 721400 interactions.\n",
      "A DTI matrix would be 0.5833% dense!\n",
      "Type of activity with the most occurencies:\n",
      "IC50 188815\n"
     ]
    }
   ],
   "source": [
    "Compounds = set()\n",
    "for x in Interactions:\n",
    "    Compounds.add(x[1])\n",
    "Compounds = list(Compounds)\n",
    "\n",
    "print(\"There are {0} targets and {1} compounds currently loaded with {2} interactions.\".format(len(Targets),len(Compounds),len(Interactions)))\n",
    "print(\"A DTI matrix would be {0:.4}% dense!\".format(100.0*len(Interactions)/len(Targets)/len(Compounds) ))\n",
    "\n",
    "Types=dict()\n",
    "for x in Interactions:\n",
    "    if x[2] in Types:\n",
    "        Types[ x[2] ] += 1\n",
    "    else:\n",
    "        Types[ x[2] ] = 1\n",
    "        \n",
    "vals = list(Types.values())\n",
    "\n",
    "sorted(vals)\n",
    "reversed(vals)\n",
    "labels = [list(Types.keys())[list(Types.values()).index(x)] for x in vals]\n",
    "\n",
    "print('Type of activity with the most occurencies:')\n",
    "best = list(Types.keys())[ list(Types.values()).index( max(Types.values())) ]\n",
    "print(best, Types[best])"
   ]
  },
  {
   "cell_type": "code",
   "execution_count": 92,
   "metadata": {
    "scrolled": true
   },
   "outputs": [
    {
     "data": {
      "image/png": "[encoded data removed]",
      "text/plain": [
       "<Figure size 864x504 with 1 Axes>"
      ]
     },
     "metadata": {
      "needs_background": "light"
     },
     "output_type": "display_data"
    }
   ],
   "source": [
    "N=6 \n",
    "fig, ax1 = plt.subplots(figsize=(12, 7))\n",
    "rects = ax1.barh(range(N), vals[:N], height=0.5, align='center', tick_label=labels[:N])\n",
    "ax1.set_title(\"Absolut count per type of activity - Top {0}\".format(N))\n",
    "plt.savefig(\"activities-all.png\")\n",
    "plt.show()"
   ]
  },
  {
   "cell_type": "markdown",
   "metadata": {},
   "source": [
    "### 3. Filter targets \n",
    "* From the complete list of interactions we select those with IC50 - this has the highest frequency and is saved as `best`. \n",
    "* We keep those with compounts for which there is a SMILES representation and IC50<10000\n",
    "\n",
    "* If there are still duplicates between the same target-compound pair we keep the one with the lowest value. \n",
    "\n",
    "* Afterwards, we select only those targets that have at least 100 known interactions.\n",
    "\n",
    "* We also select only those compounds that share interactions with at least two targets \n",
    "\n",
    "    * _The last two steps need to be done iteratively!_\n",
    "\n",
    "<!-- Active is determined as in https://druggablegenome.net/ProteinFam -->"
   ]
  },
  {
   "cell_type": "code",
   "execution_count": 93,
   "metadata": {},
   "outputs": [
    {
     "name": "stdout",
     "output_type": "stream",
     "text": [
      "All with IC50 = 188815\n",
      "Upper thres = 153223\n",
      "With fingerprint = 153179 \n",
      "No duplicates = 129354\n",
      "Filtered 2+ = 70571\n",
      "Filtered 100+ = 64134\n",
      "RE-Filtered 2+ = 62656\n"
     ]
    }
   ],
   "source": [
    "indices=[]\n",
    "for i in range(len(Interactions)):\n",
    "    if Interactions[i][2] == best:\n",
    "        indices.append(i) \n",
    "if len(indices)!=Types[best]: print(\"Something is wrong!\")\n",
    "\n",
    "\n",
    "DF = pd.DataFrame([Interactions[x] for x in indices], columns =['Target-ID', 'Compound-ID', 'Std-type', 'Std-value']) \n",
    "DF = DF.drop('Std-type',axis=1) \n",
    "print(\"All with IC50 = %d\" % DF.shape[0]) \n",
    "\n",
    "# remove activities with huge values\n",
    "DF = DF[DF['Std-value']<10000]\n",
    "print(\"Upper thres = %d\" % DF.shape[0])\n",
    "\n",
    "# insert a new variable with the smiles for each compound\n",
    "DF['Fingerprint'] = [Fingerprints[cid] for cid in DF['Compound-ID']]\n",
    "# remove activities with compounds that dont smile\n",
    "DF = DF[DF['Fingerprint']!='NOFP']\n",
    "print(\"With fingerprint = %d \" % DF.shape[0])\n",
    "\n",
    "# insert a new variable indicating active-decoys\n",
    "DF['Active'] = [ 1 if float(stdv)<=30 else 0 for stdv in DF['Std-value']]\n",
    "\n",
    "# Drop duplicate activities keeping the activity with lower concentration for each molecule-target pair\n",
    "DF.sort_values(by=['Target-ID','Compound-ID','Std-value'], ascending=True)\n",
    "DF = DF.drop_duplicates(subset=['Target-ID','Compound-ID'], keep='first')\n",
    "print(\"No duplicates = %d\" % DF.shape[0])\n",
    "\n",
    "# select compounds with more than 2 interactions:\n",
    "temp = DF.groupby(['Compound-ID']).agg('count') \n",
    "#print(temp[temp['Active'] > 1] )\n",
    "temp = temp[temp['Active'] > 1] \n",
    "tokeep = [ x for x in temp.index]\n",
    "\n",
    "DF = DF[DF['Compound-ID'].isin(tokeep)]\n",
    "\n",
    "print(\"Filtered 2+ = %d\" % DF.shape[0])\n",
    "\n",
    "# select targets with more than 100 interactions:\n",
    "temp = DF.groupby(['Target-ID']).agg('count') \n",
    "\n",
    "temp = temp[temp['Active'] > 100] \n",
    "tokeep = [x for x in temp.index] \n",
    "\n",
    "DF = DF[DF['Target-ID'].isin(tokeep)]\n",
    "print(\"Filtered 100+ = %d\" % DF.shape[0])\n",
    "\n",
    "# filter again for compounds as some have been removed because of last step\n",
    "temp = DF.groupby(['Compound-ID']).agg('count')\n",
    "temp = temp[temp['Active'] > 1] \n",
    "tokeep = [x for x in temp.index] \n",
    "\n",
    "DF = DF[DF['Compound-ID'].isin(tokeep)] \n",
    "print(\"RE-Filtered 2+ = %d\" % DF.shape[0])\n",
    "\n",
    "DF = DF.reset_index(); DF = DF.drop('index', axis=1)\n",
    "\n",
    "\n",
    "#temp = DF.groupby(['Target-ID']).agg('count') \n",
    "#temp = temp[temp['Active'] < 50]\n",
    "#if temp.shape[0]>0:\n",
    "#    print(\"WARNING: There are targets with less than 50 interactions!\")"
   ]
  },
  {
   "cell_type": "code",
   "execution_count": 94,
   "metadata": {},
   "outputs": [
    {
     "name": "stdout",
     "output_type": "stream",
     "text": [
      "110 targets and 23361 compounds with a total of 62656 interactions have remained.\n"
     ]
    }
   ],
   "source": [
    "# Now print some new statistics for the post-preprocessing data.\n",
    "Targets = np.unique(DF['Target-ID'])\n",
    "Compounds = np.unique(DF['Compound-ID'])\n",
    "print(\"{0} targets and {1} compounds with a total of {2} interactions have remained.\".format(len(Targets),len(Compounds),DF.shape[0]))\n"
   ]
  },
  {
   "cell_type": "markdown",
   "metadata": {},
   "source": [
    "### 4. Partition data to train/test sets and save to disk\n"
   ]
  },
  {
   "cell_type": "code",
   "execution_count": 95,
   "metadata": {},
   "outputs": [
    {
     "name": "stdout",
     "output_type": "stream",
     "text": [
      "62656\n",
      "Number of hidden Active/Decoys = 3132 / 3132\n",
      "The data set is ready!\n"
     ]
    }
   ],
   "source": [
    "random_seed = 2022\n",
    "np.random.seed(random_seed)\n",
    "print(DF.shape[0])\n",
    "# split = int(np.floor(0.25 * DF.shape[0] ))\n",
    "active   = [ x for x in range(DF.shape[0]) if DF['Active'][x]==1 ] \n",
    "inactive = [ x for x in range(DF.shape[0]) if DF['Active'][x]==0 ] \n",
    "\n",
    "# compute the number of items from each case required for balance\n",
    "split = int(np.floor( 0.05*( len(inactive) + len(active)) ))\n",
    "# splitB = int(np.floor( 0.1*( len(inactive) + len(active)) ))\n",
    "print(\"Number of hidden Active/Decoys = {0} / {1}\".format( split, split ))\n",
    "\n",
    "# split the active interactions in train-test sets\n",
    "np.random.shuffle( active ) \n",
    "train_indices = active[split:]\n",
    "test_indices  = active[:split]\n",
    "\n",
    "#####\n",
    "splitA = int(np.floor( 0.2*( len(train_indices)) ))\n",
    "#np.random.shuffle( train_indices )\n",
    "train_indices = train_indices[splitA:]\n",
    "CV_indices=train_indices[:splitA]\n",
    "####\n",
    "\n",
    "\n",
    "\n",
    "np.random.shuffle( inactive ) \n",
    "#train_indices.extend( inactive[split:] )\n",
    "temp=inactive[split:] \n",
    "test_indices.extend(  inactive[:split] )\n",
    "\n",
    "#####\n",
    "splitA = int(np.floor( 0.2*( len(temp)) ))\n",
    "#np.random.shuffle( temp )\n",
    "train_indices.extend(temp[splitA:])\n",
    "CV_indices.extend(temp[:splitA])\n",
    "####\n",
    "\n",
    "# remove unecessary columns\n",
    "DF = DF.drop(['Fingerprint','Active'], axis=1)\n",
    "\n",
    "\n",
    "temp = DF.loc[train_indices]\n",
    "temp.to_csv(\"interactions_kinases_\"+best+\"_train.tab\", sep='\\t', index=None)\n",
    "\n",
    "temp = DF.loc[test_indices]\n",
    "temp.to_csv(\"interactions_kinases_\"+best+\"_test.tab\", sep='\\t', index=None)\n",
    "\n",
    "temp = DF.loc[CV_indices]\n",
    "temp.to_csv(\"interactions_kinases_\"+best+\"_CV.tab\", sep='\\t', index=None)\n",
    "\n",
    "# check for mistakes\n",
    "intersect = [x for x in train_indices if x in test_indices]\n",
    "if len(intersect)>0: \n",
    "    print(\"There are rows shared by both sets...\")\n",
    "else:\n",
    "    print(\"The data set is ready!\")"
   ]
  },
  {
   "cell_type": "code",
   "execution_count": null,
   "metadata": {},
   "outputs": [],
   "source": []
  },
  {
   "cell_type": "code",
   "execution_count": null,
   "metadata": {},
   "outputs": [],
   "source": []
  }
 ],
 "metadata": {
  "kernelspec": {
   "display_name": "Python 3",
   "language": "python",
   "name": "python3"
  },
  "language_info": {
   "codemirror_mode": {
    "name": "ipython",
    "version": 3
   },
   "file_extension": ".py",
   "mimetype": "text/x-python",
   "name": "python",
   "nbconvert_exporter": "python",
   "pygments_lexer": "ipython3",
   "version": "3.7.8"
  }
 },
 "nbformat": 4,
 "nbformat_minor": 4
}
