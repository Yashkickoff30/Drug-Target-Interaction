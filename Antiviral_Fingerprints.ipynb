{
 "cells": [
  {
   "cell_type": "code",
   "execution_count": 1,
   "metadata": {},
   "outputs": [],
   "source": [
    "from rdkit.Chem import AllChem, DataStructs\n",
    "from rdkit import Chem"
   ]
  },
  {
   "cell_type": "code",
   "execution_count": 14,
   "metadata": {},
   "outputs": [
    {
     "name": "stdout",
     "output_type": "stream",
     "text": [
      "Done Successfully\n"
     ]
    }
   ],
   "source": [
    "# now we create a new file with the fingerprints\n",
    "with open('drugs_Fingerprints.tab','w') as newf:\n",
    "    with open('drugs.tab') as oldf:\n",
    "#         header = oldf.readline()\n",
    "#         newf.write(\"Compound-ID\\tSMILES\\tFingerprint\\n\")q\n",
    "        for line in oldf:\n",
    "            tokens = line.split() # [Comp-ID, SMILES]\n",
    "#             if tokens[1] is None:\n",
    "#                 fp=\"None\"\n",
    "#             else:\n",
    "            if Chem.MolFromSmiles(tokens[2]):\n",
    "                fp = AllChem.GetMorganFingerprintAsBitVect( Chem.MolFromSmiles(tokens[2]), radius=2, useFeatures=True )\n",
    "                fp = fp.ToBitString()\n",
    "            else:\n",
    "                fp = \"NOFP\" \n",
    "            newf.write(tokens[0]+'\\t'+tokens[2]+'\\t' + fp + '\\n')\n",
    "print(\"Done Successfully\")"
   ]
  },
  {
   "cell_type": "code",
   "execution_count": null,
   "metadata": {},
   "outputs": [],
   "source": []
  }
 ],
 "metadata": {
  "kernelspec": {
   "display_name": "Python 3",
   "language": "python",
   "name": "python3"
  },
  "language_info": {
   "codemirror_mode": {
    "name": "ipython",
    "version": 3
   },
   "file_extension": ".py",
   "mimetype": "text/x-python",
   "name": "python",
   "nbconvert_exporter": "python",
   "pygments_lexer": "ipython3",
   "version": "3.7.8"
  }
 },
 "nbformat": 4,
 "nbformat_minor": 4
}
